{
 "cells": [
  {
   "cell_type": "markdown",
   "metadata": {},
   "source": [
    "COMP47590 Advanced Machine Learning\n",
    "Assignment 2: Lunar Lander\n",
    "\n",
    "Nikita Pavlenko 13524873\n",
    "\n"
   ]
  },
  {
   "cell_type": "code",
   "execution_count": 2,
   "metadata": {},
   "outputs": [],
   "source": [
    "#Imports \n",
    "\n",
    "import matplotlib as plt\n",
    "import os\n",
    "\n",
    "import torch  # Using PyTorch backend\n",
    "import pandas as pd\n",
    "import cv2\n",
    "\n"
   ]
  },
  {
   "cell_type": "markdown",
   "metadata": {},
   "source": [
    "Import labelled imageset to pandas dataframe"
   ]
  },
  {
   "cell_type": "code",
   "execution_count": null,
   "metadata": {},
   "outputs": [],
   "source": []
  },
  {
   "cell_type": "markdown",
   "metadata": {},
   "source": [
    "Prepare images: convert to grayscale, resize, group"
   ]
  },
  {
   "cell_type": "code",
   "execution_count": null,
   "metadata": {},
   "outputs": [],
   "source": [
    "path_to_raw_imgs = 'LunarLanderFramesPart1/'\n",
    "filename_list = os.listdir(path_to_raw_imgs)\n",
    "\n",
    "# #simply resized images\n",
    "# for filename in filename_list:\n",
    "#     image = cv2.imread(path_to_raw_imgs + filename, 1)\n",
    "#     resized = cv2.resize(image, (75, 75))\n",
    "#     write_path = os.path.join('C:\\\\Users\\\\nik\\\\Documents\\\\Python Scripts\\\\advanced-ml\\\\lunar-lander\\\\rgb_resized\\\\' + filename)\n",
    "#     cv2.imwrite(write_path, resized)\n",
    "                \n",
    "    \n",
    "# #resized and converted to grayscale\n",
    "# for filename in filename_list:\n",
    "#     image = cv2.imread(path_to_raw_imgs + filename, 1)\n",
    "#     resized = cv2.resize(image, (75, 75))\n",
    "#     write_path = os.path.join('C:\\\\Users\\\\nik\\\\Documents\\\\Python Scripts\\\\advanced-ml\\\\lunar-lander\\\\gray_resized\\\\' + filename)\n",
    "#     cv2.imwrite(write_path, resized)\n",
    "\n",
    "#resized and grouped to 3 \n",
    "\n",
    "\n",
    "image = cv2.imread(path_to_raw_imgs + filename_list[555], 1)\n",
    "resized = cv2.resize(image, (75, 75))\n",
    "img_gray = cv2.cvtColor(image, cv2.COLOR_RGB2GRAY)\n",
    "write_path = os.path.join('C:\\\\Users\\\\nik\\\\Documents\\\\Python Scripts\\\\advanced-ml\\\\lunar-lander\\\\rgb_resized\\\\' + filename)\n",
    "cv2.imwrite(write_path, resized)\n",
    "\n"
   ]
  },
  {
   "cell_type": "code",
   "execution_count": null,
   "metadata": {},
   "outputs": [],
   "source": [
    "# get_labels /// os.getcwd()\n",
    "path_to_raw_imgs = 'LunarLanderFramesPart1/'\n",
    "filename_list = os.listdir(path_to_raw_imgs)\n",
    "\n",
    "print()\n"
   ]
  },
  {
   "cell_type": "code",
   "execution_count": 12,
   "metadata": {},
   "outputs": [
    {
     "data": {
      "text/plain": [
       "'C:\\\\Users\\\\nik\\\\Documents\\\\Python Scripts\\\\advanced-ml\\\\lunar-lander'"
      ]
     },
     "execution_count": 12,
     "metadata": {},
     "output_type": "execute_result"
    }
   ],
   "source": []
  },
  {
   "cell_type": "code",
   "execution_count": null,
   "metadata": {},
   "outputs": [],
   "source": []
  }
 ],
 "metadata": {
  "kernelspec": {
   "display_name": "Python 3",
   "language": "python",
   "name": "python3"
  },
  "language_info": {
   "codemirror_mode": {
    "name": "ipython",
    "version": 3
   },
   "file_extension": ".py",
   "mimetype": "text/x-python",
   "name": "python",
   "nbconvert_exporter": "python",
   "pygments_lexer": "ipython3",
   "version": "3.7.0"
  }
 },
 "nbformat": 4,
 "nbformat_minor": 2
}
