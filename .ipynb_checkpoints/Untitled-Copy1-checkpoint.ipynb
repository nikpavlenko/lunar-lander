{
 "cells": [
  {
   "cell_type": "markdown",
   "metadata": {},
   "source": [
    "COMP47590 Advanced Machine Learning\n",
    "Assignment 2: Lunar Lander\n",
    "\n",
    "Nikita Pavlenko 13524873\n",
    "\n"
   ]
  },
  {
   "cell_type": "code",
   "execution_count": 1,
   "metadata": {},
   "outputs": [],
   "source": [
    "#Imports \n",
    "\n",
    "import matplotlib as plt\n",
    "import os\n",
    "\n",
    "import torch  # Using PyTorch backend\n",
    "import pandas as pd\n",
    "import cv2\n",
    "\n"
   ]
  },
  {
   "cell_type": "markdown",
   "metadata": {},
   "source": [
    "Import labelled imageset to pandas dataframe"
   ]
  },
  {
   "cell_type": "code",
   "execution_count": null,
   "metadata": {},
   "outputs": [],
   "source": []
  },
  {
   "cell_type": "markdown",
   "metadata": {},
   "source": [
    "Prepare images: convert to grayscale, resize, group"
   ]
  },
  {
   "cell_type": "code",
   "execution_count": null,
   "metadata": {},
   "outputs": [],
   "source": [
    "\n",
    "path_to_raw_imgs = 'LunarLanderFramesPart1/'\n",
    "write_to = 'Prepared_dataset/'\n",
    "filename_list = os.listdir(path_to_raw_imgs)\n",
    "\n",
    "#simply resized images\n",
    "for filename in filename_list:\n",
    "    image = cv2.imread(path_to_raw_imgs + filename, 1)\n",
    "    resized = cv2.resize(image, (75, 75))\n",
    "    path = os.path.join('C:\\\\Users\\\\nik\\\\Documents\\\\Python Scripts\\\\advanced-ml\\\\lunar-lander\\\\rgb_resized\\\\' + filename)\n",
    "    cv2.imwrite(path, resized)\n",
    "                \n",
    "    \n",
    "#resized and converted to grayscale\n",
    "for filename in filename_list:\n",
    "    image = cv2.imread(path_to_raw_imgs + filename, 1)\n",
    "    gray = cv2.cvtColor(image, cv2.COLOR_RGB2GRAY)\n",
    "    resized = cv2.resize(gray, (75, 75))\n",
    "    path = os.path.join('C:\\\\Users\\\\nik\\\\Documents\\\\Python Scripts\\\\advanced-ml\\\\lunar-lander\\\\gray_resized\\\\' + filename)\n",
    "    cv2.imwrite(path , resized)\n",
    "    "
   ]
  },
  {
   "cell_type": "code",
   "execution_count": null,
   "metadata": {},
   "outputs": [],
   "source": [
    "# get_labels /// os.getcwd()\n",
    "path_to_raw_imgs = 'LunarLanderFramesPart1/'\n",
    "filename_list = os.listdir(path_to_raw_imgs)\n",
    "\n",
    "y = [filename[-6] for filename in filename_list]\n",
    "\n",
    "#check sample distribution\n",
    "print(\"0 (None) :\", y.count('0'))\n",
    "print(\"1 (Up)   :\", y.count('1'))\n",
    "print(\"2 (Left) :\", y.count('2'))\n",
    "print(\"3 (Right):\", y.count('3'))"
   ]
  },
  {
   "cell_type": "markdown",
   "metadata": {},
   "source": [
    "Sample-distribution is uneven, hence selecting only 2000 samples from each class for training."
   ]
  },
  {
   "cell_type": "code",
   "execution_count": null,
   "metadata": {},
   "outputs": [],
   "source": [
    "# merge samples and lables\n",
    "\n",
    "path_to_raw_imgs = 'LunarLanderFramesPart1/'\n",
    "filename_list = os.listdir(path_to_raw_imgs)\n",
    "\n",
    "print(filename_list[1][1])"
   ]
  },
  {
   "cell_type": "code",
   "execution_count": null,
   "metadata": {},
   "outputs": [],
   "source": []
  },
  {
   "cell_type": "code",
   "execution_count": null,
   "metadata": {},
   "outputs": [],
   "source": []
  }
 ],
 "metadata": {
  "kernelspec": {
   "display_name": "Python 3",
   "language": "python",
   "name": "python3"
  },
  "language_info": {
   "codemirror_mode": {
    "name": "ipython",
    "version": 3
   },
   "file_extension": ".py",
   "mimetype": "text/x-python",
   "name": "python",
   "nbconvert_exporter": "python",
   "pygments_lexer": "ipython3",
   "version": "3.7.0"
  }
 },
 "nbformat": 4,
 "nbformat_minor": 2
}
